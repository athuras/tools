{
 "metadata": {
  "name": "Fast Classifier Demo"
 },
 "nbformat": 3,
 "nbformat_minor": 0,
 "worksheets": [
  {
   "cells": [
    {
     "cell_type": "code",
     "collapsed": false,
     "input": [
      "import numpy as np\n",
      "import fast_classifiers\n",
      "import matplotlib\n",
      "import matplotlib.pyplot as plt\n",
      "%pylab inline"
     ],
     "language": "python",
     "metadata": {},
     "outputs": [
      {
       "output_type": "stream",
       "stream": "stdout",
       "text": [
        "\n",
        "Welcome to pylab, a matplotlib-based Python environment [backend: module://IPython.zmq.pylab.backend_inline].\n",
        "For more information, type 'help(pylab)'.\n"
       ]
      }
     ],
     "prompt_number": 1
    },
    {
     "cell_type": "code",
     "collapsed": false,
     "input": [
      "A = np.array([[-5.2, 0], [-4.2, 1], [-4, 0.2]])\n",
      "B = np.array([[1, 1.1], [1.1, 2], [1, 1.2]])\n",
      "C = np.array([[-2, 4.13], [1, 5], [1.5, 5.5]])\n",
      "D = np.array([[-2.1, 2.2], [-2.2, 3], [-2, 3.3]])"
     ],
     "language": "python",
     "metadata": {},
     "outputs": [],
     "prompt_number": 2
    },
    {
     "cell_type": "code",
     "collapsed": false,
     "input": [
      "labels = np.array([0,0,0, 1,1,1, 2,2,2, 3,3,3], dtype=np.int)"
     ],
     "language": "python",
     "metadata": {},
     "outputs": [],
     "prompt_number": 3
    },
    {
     "cell_type": "code",
     "collapsed": false,
     "input": [
      "data = np.concatenate((A, B, C, D))\n",
      "data"
     ],
     "language": "python",
     "metadata": {},
     "outputs": [
      {
       "output_type": "pyout",
       "prompt_number": 4,
       "text": [
        "array([[-5.2 ,  0.  ],\n",
        "       [-4.2 ,  1.  ],\n",
        "       [-4.  ,  0.2 ],\n",
        "       [ 1.  ,  1.1 ],\n",
        "       [ 1.1 ,  2.  ],\n",
        "       [ 1.  ,  1.2 ],\n",
        "       [-2.  ,  4.13],\n",
        "       [ 1.  ,  5.  ],\n",
        "       [ 1.5 ,  5.5 ],\n",
        "       [-2.1 ,  2.2 ],\n",
        "       [-2.2 ,  3.  ],\n",
        "       [-2.  ,  3.3 ]])"
       ]
      }
     ],
     "prompt_number": 4
    },
    {
     "cell_type": "code",
     "collapsed": false,
     "input": [
      "micd = fast_classifiers.MICD(data, labels)\n"
     ],
     "language": "python",
     "metadata": {},
     "outputs": [],
     "prompt_number": 5
    },
    {
     "cell_type": "code",
     "collapsed": false,
     "input": [
      "med = fast_classifiers.MED(np.dstack((np.mean(A, axis=0), \n",
      "                                      np.mean(B, axis=0),\n",
      "                                      np.mean(C, axis=0),\n",
      "                                      np.mean(D, axis=0))))"
     ],
     "language": "python",
     "metadata": {},
     "outputs": [],
     "prompt_number": 6
    },
    {
     "cell_type": "code",
     "collapsed": false,
     "input": [
      "med.confuse(data, labels)"
     ],
     "language": "python",
     "metadata": {},
     "outputs": [
      {
       "output_type": "pyout",
       "prompt_number": 7,
       "text": [
        "array([[3, 0, 0, 0],\n",
        "       [0, 3, 0, 0],\n",
        "       [0, 0, 2, 1],\n",
        "       [0, 0, 0, 3]])"
       ]
      }
     ],
     "prompt_number": 7
    },
    {
     "cell_type": "code",
     "collapsed": false,
     "input": [
      "micd.confuse(data, labels)"
     ],
     "language": "python",
     "metadata": {},
     "outputs": [
      {
       "output_type": "pyout",
       "prompt_number": 8,
       "text": [
        "array([[3, 0, 0, 0],\n",
        "       [0, 3, 0, 0],\n",
        "       [0, 2, 1, 0],\n",
        "       [0, 0, 0, 3]])"
       ]
      }
     ],
     "prompt_number": 8
    },
    {
     "cell_type": "code",
     "collapsed": false,
     "input": [
      "micd.classify(C)"
     ],
     "language": "python",
     "metadata": {},
     "outputs": [
      {
       "output_type": "pyout",
       "prompt_number": 9,
       "text": [
        "array([2, 1, 1])"
       ]
      }
     ],
     "prompt_number": 9
    },
    {
     "cell_type": "code",
     "collapsed": false,
     "input": [],
     "language": "python",
     "metadata": {},
     "outputs": [],
     "prompt_number": 9
    },
    {
     "cell_type": "code",
     "collapsed": false,
     "input": [
      "fig = plt.figure(1)\n",
      "ax = fig.add_subplot(111)\n",
      "co = ('r', 'g', 'b')\n",
      "for i, z in enumerate((A, B, C)):\n",
      "    ax.scatter(z[:,0], z[:, 1], c=co[i])\n",
      "\n",
      "h = 0.1\n",
      "xx, yy = np.meshgrid(np.arange(-6, 2, h), np.arange(-1, 6, h))\n",
      "Q = np.dstack((xx, yy))\n",
      "Q = Q.reshape(Q.shape[0]*Q.shape[1], Q.shape[2])\n",
      "Z = micd.classify(Q).reshape(xx.shape)\n",
      "ax.pcolormesh(xx, yy, Z, alpha=0.1, cmap='spectral')"
     ],
     "language": "python",
     "metadata": {},
     "outputs": [
      {
       "output_type": "pyout",
       "prompt_number": 10,
       "text": [
        "<matplotlib.collections.QuadMesh at 0x10bdbdc10>"
       ]
      }
     ],
     "prompt_number": 10
    },
    {
     "cell_type": "code",
     "collapsed": false,
     "input": [
      "micd.classify(np.array([[0, 0]]))"
     ],
     "language": "python",
     "metadata": {},
     "outputs": [
      {
       "output_type": "pyout",
       "prompt_number": 13,
       "text": [
        "array([0])"
       ]
      }
     ],
     "prompt_number": 13
    },
    {
     "cell_type": "code",
     "collapsed": false,
     "input": [
      "fig5 = plt.figure(5)\n",
      "ax = fig5.add_subplot(111)\n",
      "co = ('r', 'g', 'b', 'm')\n",
      "for i, z in enumerate((A, B, C, D)):\n",
      "    ax.scatter(z[:,0], z[:, 1], c=co[i])\n",
      "\n",
      "h = 0.1\n",
      "xx, yy = np.meshgrid(np.arange(-6, 2, h), np.arange(-1, 6, h))\n",
      "Q = np.dstack((xx, yy))\n",
      "Q = Q.reshape(Q.shape[0]*Q.shape[1], Q.shape[2])\n",
      "Z = micd.classify(Q).reshape(xx.shape)\n",
      "ax.pcolormesh(xx, yy, Z, alpha=0.1, cmap=matplotlib.colors.ListedColormap(co))\n",
      "fig5"
     ],
     "language": "python",
     "metadata": {},
     "outputs": [
      {
       "output_type": "pyout",
       "png": "[encoded data removed]",
       "prompt_number": 17,
       "text": [
        "<matplotlib.figure.Figure at 0x10bedc4d0>"
       ]
      }
     ],
     "prompt_number": 17
    },
    {
     "cell_type": "code",
     "collapsed": false,
     "input": [],
     "language": "python",
     "metadata": {},
     "outputs": [
      {
       "ename": "AttributeError",
       "evalue": "'Figure' object has no attribute 'close'",
       "output_type": "pyerr",
       "traceback": [
        "\u001b[0;31m---------------------------------------------------------------------------\u001b[0m\n\u001b[0;31mAttributeError\u001b[0m                            Traceback (most recent call last)",
        "\u001b[0;32m<ipython-input-17-c14304430eae>\u001b[0m in \u001b[0;36m<module>\u001b[0;34m()\u001b[0m\n\u001b[0;32m----> 1\u001b[0;31m \u001b[0mfig1\u001b[0m\u001b[0;34m.\u001b[0m\u001b[0mclose\u001b[0m\u001b[0;34m(\u001b[0m\u001b[0;34m)\u001b[0m\u001b[0;34m\u001b[0m\u001b[0m\n\u001b[0m",
        "\u001b[0;31mAttributeError\u001b[0m: 'Figure' object has no attribute 'close'"
       ]
      }
     ],
     "prompt_number": 17
    },
    {
     "cell_type": "code",
     "collapsed": false,
     "input": [
      "means = micd.class_means\n",
      "invs = micd.class_invs"
     ],
     "language": "python",
     "metadata": {},
     "outputs": [],
     "prompt_number": 20
    },
    {
     "cell_type": "code",
     "collapsed": false,
     "input": [
      "means"
     ],
     "language": "python",
     "metadata": {},
     "outputs": [
      {
       "output_type": "pyout",
       "prompt_number": 21,
       "text": [
        "array([[-4.46666667,  0.4       ],\n",
        "       [ 1.03333333,  1.43333333],\n",
        "       [ 0.16666667,  4.87666667],\n",
        "       [-2.1       ,  2.83333333]])"
       ]
      }
     ],
     "prompt_number": 21
    },
    {
     "cell_type": "code",
     "collapsed": false,
     "input": [
      "print data.shape, means.shape, invs.shape"
     ],
     "language": "python",
     "metadata": {},
     "outputs": [
      {
       "output_type": "stream",
       "stream": "stdout",
       "text": [
        "(12, 2) (4, 2) (2, 2, 4)\n"
       ]
      }
     ],
     "prompt_number": 29
    },
    {
     "cell_type": "code",
     "collapsed": false,
     "input": [
      "Z = data[..., None] - means.T\n",
      "Z.shape"
     ],
     "language": "python",
     "metadata": {},
     "outputs": [
      {
       "output_type": "pyout",
       "prompt_number": 28,
       "text": [
        "(12, 2, 4)"
       ]
      }
     ],
     "prompt_number": 28
    },
    {
     "cell_type": "code",
     "collapsed": false,
     "input": [
      "Q = (Z[..., None] * invs.swapaxes(1, 2)).sum(axis=3)\n"
     ],
     "language": "python",
     "metadata": {},
     "outputs": [
      {
       "output_type": "pyout",
       "prompt_number": 48,
       "text": [
        "(12, 2, 4)"
       ]
      }
     ],
     "prompt_number": 48
    },
    {
     "cell_type": "code",
     "collapsed": false,
     "input": [
      "np.cov(np.array([[0, 1.2], [1, 2]]).T)"
     ],
     "language": "python",
     "metadata": {},
     "outputs": [
      {
       "output_type": "pyout",
       "prompt_number": 41,
       "text": [
        "array([[ 0.5 ,  0.4 ],\n",
        "       [ 0.4 ,  0.32]])"
       ]
      }
     ],
     "prompt_number": 41
    },
    {
     "cell_type": "code",
     "collapsed": false,
     "input": [
      "R.shape"
     ],
     "language": "python",
     "metadata": {},
     "outputs": [
      {
       "output_type": "pyout",
       "prompt_number": 49,
       "text": [
        "(9, 3)"
       ]
      }
     ],
     "prompt_number": 49
    },
    {
     "cell_type": "code",
     "collapsed": false,
     "input": [
      "rt = np.argmin(R, axis=1)"
     ],
     "language": "python",
     "metadata": {},
     "outputs": [],
     "prompt_number": 50
    },
    {
     "cell_type": "code",
     "collapsed": false,
     "input": [
      "rt"
     ],
     "language": "python",
     "metadata": {},
     "outputs": [
      {
       "output_type": "pyout",
       "prompt_number": 51,
       "text": [
        "array([0, 0, 0, 1, 1, 1, 2, 1, 1])"
       ]
      }
     ],
     "prompt_number": 51
    },
    {
     "cell_type": "code",
     "collapsed": false,
     "input": [
      "np.trace(micd.confuse(data, labels))/ np.sum(micd.confuse(data, labels), dtype=np.double)"
     ],
     "language": "python",
     "metadata": {},
     "outputs": [
      {
       "output_type": "pyout",
       "prompt_number": 18,
       "text": [
        "0.83333333333333337"
       ]
      }
     ],
     "prompt_number": 18
    },
    {
     "cell_type": "code",
     "collapsed": false,
     "input": [
      "micd.means"
     ],
     "language": "python",
     "metadata": {},
     "outputs": [
      {
       "ename": "NameError",
       "evalue": "name 'micd' is not defined",
       "output_type": "pyerr",
       "traceback": [
        "\u001b[0;31m---------------------------------------------------------------------------\u001b[0m\n\u001b[0;31mNameError\u001b[0m                                 Traceback (most recent call last)",
        "\u001b[0;32m<ipython-input-1-f7a3d261bcc6>\u001b[0m in \u001b[0;36m<module>\u001b[0;34m()\u001b[0m\n\u001b[0;32m----> 1\u001b[0;31m \u001b[0mmicd\u001b[0m\u001b[0;34m.\u001b[0m\u001b[0mmeans\u001b[0m\u001b[0;34m\u001b[0m\u001b[0m\n\u001b[0m",
        "\u001b[0;31mNameError\u001b[0m: name 'micd' is not defined"
       ]
      }
     ],
     "prompt_number": 1
    },
    {
     "cell_type": "code",
     "collapsed": false,
     "input": [],
     "language": "python",
     "metadata": {},
     "outputs": []
    }
   ],
   "metadata": {}
  }
 ]
}